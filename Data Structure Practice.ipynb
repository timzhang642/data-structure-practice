{
 "cells": [
  {
   "cell_type": "markdown",
   "metadata": {},
   "source": [
    "# Data Structure Practice"
   ]
  },
  {
   "cell_type": "markdown",
   "metadata": {},
   "source": [
    "<h2>Linked Lists</h2>\n",
    "<h4>Why use Linked List?</h4>\n",
    "<p>For traditional list, insertion and deletion is computationally expensive, because the amount of computation is proportional to the number of elements to be shifted in the list (linear growth). Linked list is made up by nodes, which contains a value object and a pointer to the next node, the last node points to a Null value. Nodes are allocated at different places in memory, connecting each other using a reference link. So computation for insertion and deletion is independent from the list size.</p>\n",
    "<p>However, linked list is not good at searching, because we need to start from the very first node and search for the value we are looking for. The computation of doing this grows linearly with the number of nodes, whereas traditional list only spends constant time on accessing a element using the element index, or use binary search if we don't know the index.</p>\n",
    "<p>Linked List has three variants: stack, queue and doubly linked list</p>"
   ]
  },
  {
   "cell_type": "markdown",
   "metadata": {},
   "source": [
    "<p>Stucture<p>\n",
    "<img src=\"https://www.tutorialspoint.com/data_structures_algorithms/images/dsa_linkedlist.jpg\" width=\"50%\">\n",
    "<p>Insertion<p>\n",
    "<img src=\"https://upload.wikimedia.org/wikipedia/commons/thumb/4/4b/CPT-LinkedLists-addingnode.svg/1280px-CPT-LinkedLists-addingnode.svg.png\" width=\"50%\">\n",
    "<p>Deletion<p>\n",
    "<img src=\"https://upload.wikimedia.org/wikipedia/commons/thumb/d/d4/CPT-LinkedLists-deletingnode.svg/380px-CPT-LinkedLists-deletingnode.svg.png\" width=\"40%\">"
   ]
  },
  {
   "cell_type": "code",
   "execution_count": 35,
   "metadata": {
    "collapsed": true
   },
   "outputs": [],
   "source": [
    "# each node contains a data object and a pointer to the next node\n",
    "class Node(object):\n",
    "    # define object attributes\n",
    "    def __init__(self, data, next_node=None):\n",
    "        self.data = data\n",
    "        self.next_node = next_node\n",
    "        \n",
    "    # define object methods\n",
    "    def get_data(self):\n",
    "        return self.data\n",
    "    \n",
    "    def set_data(self, new_data):\n",
    "        self.data = new_data\n",
    "        #print \"new data is set\"\n",
    "        \n",
    "    def get_next_node(self):\n",
    "        return self.next_node\n",
    "    \n",
    "    def set_next_node(self, next_node):\n",
    "        self.next_node = next_node\n",
    "        #print \"next node is set\"\n",
    "        \n",
    "# linked list is made of chained nodes\n",
    "class LinkedList(object):\n",
    "    def __init__(self, pointer=None):\n",
    "        # indicates which node it is currently at\n",
    "        self.pointer = pointer \n",
    "        self.size = 0\n",
    "    \n",
    "    def get_size(self):\n",
    "        return self.size\n",
    "    \n",
    "    # add a node at the beginning of the list\n",
    "    def add(self, new_data):\n",
    "        # create a new node pointing to the first node of the list\n",
    "        new_node = Node(data=new_data, next_node=self.pointer) \n",
    "        # set the pointer at the new node, which is at the begining of the list\n",
    "        self.pointer = new_node \n",
    "        # increment the linkedlist size by 1\n",
    "        self.size += 1 \n",
    "        print \"a new node is added to the beginning\"\n",
    "        \n",
    "    # delete a node that contains certain data\n",
    "    def delete(self, data):\n",
    "        # at the beginning of the list\n",
    "        previous_node = None\n",
    "        current_node = self.pointer\n",
    "        \n",
    "        # search from the beginning of the list to the end, where current_node=None\n",
    "        while current_node:\n",
    "            if current_node.get_data() == data:\n",
    "                if previous_node:\n",
    "                    # link previous node to next node, skip the current\n",
    "                    previous_node.set_next_node(current_node.get_next_node()) \n",
    "                # when it is the first node\n",
    "                else:\n",
    "                    self.pointer = current_node.get_next_node()\n",
    "                self.size -= 1\n",
    "                print \"node removed\"\n",
    "                return True\n",
    "            else:\n",
    "                previous_node = current_node\n",
    "                current_node = current_node.get_next_node()\n",
    "        print \"node with matching data not found, no node is removed\"\n",
    "        return False\n",
    "    \n",
    "    # find and return node\n",
    "    def find(self, data):\n",
    "        # at the beginning of the list\n",
    "        current_node = self.pointer\n",
    "        \n",
    "        # search from the beginning to the end of the list\n",
    "        while current_node:\n",
    "            if current_node.get_data() == data:\n",
    "                print \"found\"\n",
    "                return current_node\n",
    "            else:\n",
    "                current_node = current_node.get_next_node()\n",
    "        print \"not found\"\n",
    "        return None\n",
    "    \n",
    "    # update node data\n",
    "    def update(self, data, new_data):\n",
    "        # at the beginning of the list\n",
    "        current_node = self.pointer\n",
    "        \n",
    "        # search from the beginning to the end of the list\n",
    "        while current_node:\n",
    "            if current_node.get_data() == data:\n",
    "                current_node.set_data(new_data)\n",
    "                print \"updated\"\n",
    "                return True\n",
    "            else:\n",
    "                current_node = current_node.get_next_node()\n",
    "        print \"not found\"\n",
    "        return None"
   ]
  },
  {
   "cell_type": "code",
   "execution_count": 36,
   "metadata": {
    "collapsed": false
   },
   "outputs": [
    {
     "name": "stdout",
     "output_type": "stream",
     "text": [
      "a new node is added to the beginning\n",
      "a new node is added to the beginning\n",
      "a new node is added to the beginning\n",
      "3\n"
     ]
    }
   ],
   "source": [
    "a = LinkedList()\n",
    "a.add(new_data = '111')\n",
    "a.add(new_data = '222')\n",
    "a.add(new_data = '333')\n",
    "print a.size"
   ]
  },
  {
   "cell_type": "code",
   "execution_count": 37,
   "metadata": {
    "collapsed": false
   },
   "outputs": [
    {
     "name": "stdout",
     "output_type": "stream",
     "text": [
      "node removed\n",
      "2\n"
     ]
    }
   ],
   "source": [
    "a.delete('222')\n",
    "print a.size"
   ]
  },
  {
   "cell_type": "code",
   "execution_count": 38,
   "metadata": {
    "collapsed": false,
    "scrolled": true
   },
   "outputs": [
    {
     "name": "stdout",
     "output_type": "stream",
     "text": [
      "updated\n",
      "found\n",
      "555\n"
     ]
    }
   ],
   "source": [
    "a.update('333','555')\n",
    "print a.find('555').get_data()"
   ]
  },
  {
   "cell_type": "code",
   "execution_count": null,
   "metadata": {
    "collapsed": true
   },
   "outputs": [],
   "source": []
  },
  {
   "cell_type": "markdown",
   "metadata": {},
   "source": [
    "### Recursive Data Structure - Tree"
   ]
  },
  {
   "cell_type": "markdown",
   "metadata": {},
   "source": [
    "<p>Tree structure is composed of a collection of nodes resembling a hierarchy.</p>\n",
    "<p>Applications: files system, binary search tree, network routing algorithm..</p>\n",
    "<p>Depth of a node: number of edges from root to the node. E.G. depth of node 4 is 2.</p>\n",
    "<p>Height of a node: number of edges for the longest path from the node to the leaf node. E.G. height of node 6 is 3 (6 -> 11 -> 13 -> 15).</p>"
   ]
  },
  {
   "cell_type": "markdown",
   "metadata": {},
   "source": [
    "<p>Terminologies:</p>\n",
    "<img src=\"https://encrypted-tbn1.gstatic.com/images?q=tbn:ANd9GcRbiujXYYlLLnCZH3uNyKFGZhrIhr-xyI5cDGcIhe7cveb2KCiw\" width=\"40%\">\n",
    "<p>Binary Tree Representation: at each node, left points to left child, right points to right child, middle contains data.</p>\n",
    "<img src=\"http://btechsmartclass.com/DS/images/BT%20Linked%20List%20Representation.png\" width=\"40%\">"
   ]
  },
  {
   "cell_type": "markdown",
   "metadata": {},
   "source": [
    "### Binary Search Tree"
   ]
  },
  {
   "cell_type": "markdown",
   "metadata": {},
   "source": [
    "<p>The left subtree of a node contains values smaller than the node value, the right subtree contains values greater than the node value. There should be no duplicate values in the tree.</p>\n",
    "<p><b>Tree Traversal</b>: visiting each node in the tree exactly once</p>\n",
    "<p><u>Breadth-first - level order traversal</u>: visiting all the nodes in the same level, from left to right, from root level down to the bottom. This may need excessive memory for large tree.</p>\n",
    "Traverse with Queue data structure. \n",
    "<br>\n",
    "<h6>Queue</h6>\n",
    "Queue is a particular kind of abstract data type or collection in which the entities in the collection are kept in order and the only operations on the collection are the addition of entities to the rear terminal position, known as enqueue, and removal of entities from the front terminal position, known as dequeue. It is known as First-In-First-Out (FIFO) data structure.\n",
    "<br>\n",
    "Time complexity: O(N). Linear growth as the tree gets larger.\n",
    "<br>\n",
    "Space complexity: depending on number of nodes in the tree: best case: O(1), worse case: O(N).\n",
    "<img src=\"https://upload.wikimedia.org/wikipedia/commons/thumb/3/33/Breadth-first-tree.svg/300px-Breadth-first-tree.svg.png\" width=\"30%\">\n",
    "<p><u>Depth-first</u></p>\n",
    "<ul>Preorder traversal: root -> left subtree -> right subtree, recursively</ul>\n",
    "<ul>Inorder traversal: left subtree -> root -> right subtree, recursively</ul>\n",
    "<ul>Postorder traversal: left subtree -> right subtree -> root, recursively</ul>\n",
    "<img src=\"http://www.cs.cmu.edu/~clo/www/CMU/DataStructures/Lessons/lesson4_3_files/image001.gif\" width=\"40%\">\n",
    "<h4>Insert a node</h4> compare with the root node and go to left if the node is smaller than root node. Do this recursively down the tree. We always insert the node as a leaf node, never need to rearange the tree.</p>\n",
    "<h4>Delete a node</h4>\n",
    "<ul>\n",
    "    <li>Delete a node with no child: just delete it, the structure of the tree won't change</li>\n",
    "    <li>Delete a node with one child: connects the node's parent to the node's child (CASE 1)</li>\n",
    "    <li>Delete a node with two children: replace the node with the smallest node in the right subtree, that's the most left node in the right subtree (CASE 2, 3)</li>\n",
    "</ul>\n",
    "<img src=\"https://i-msdn.sec.s-msft.com/dynimg/IC92100.gif\" width=\"50%\">"
   ]
  },
  {
   "cell_type": "code",
   "execution_count": 92,
   "metadata": {
    "collapsed": true
   },
   "outputs": [],
   "source": [
    "class Node:\n",
    "    def __init__(self, data):\n",
    "        self.data = data\n",
    "        self.left_child = None\n",
    "        self.right_child = None\n",
    "    \n",
    "    def add(self, data):\n",
    "        if data == self.data:\n",
    "            print \"node already exist\"\n",
    "            return False\n",
    "        elif data < self.data: \n",
    "            if self.left_child:\n",
    "                return self.left_child.add(data)\n",
    "            else:\n",
    "                self.left_child = Node(data)\n",
    "                print \"node added\"\n",
    "                return True\n",
    "        elif data > self.data:\n",
    "            if self.right_child:\n",
    "                return self.right_child.add(data)\n",
    "            else:\n",
    "                self.right_child = Node(data)\n",
    "                print \"node added\"\n",
    "                return True\n",
    "            \n",
    "    def find(self, data):\n",
    "        if data == self.data:\n",
    "            return self.data\n",
    "        elif data < self.data:\n",
    "            if self.left_child:\n",
    "                return self.left_child.find(data)\n",
    "            else:\n",
    "                print \"no data found\"\n",
    "                return False\n",
    "        elif data > self.right_child:\n",
    "            if self.right_child:\n",
    "                return self.right_child.find(data)\n",
    "            else:\n",
    "                print \"no data found\"\n",
    "                return False\n",
    "    \n",
    "    # do this with queue data structure, FIFO\n",
    "    def levelorder(self):\n",
    "        q = [self] # add root node to queue\n",
    "        while q:\n",
    "            node = q.pop(0)\n",
    "            print str(node.data)\n",
    "            if node.left_child:\n",
    "                    q.append(node.left_child)\n",
    "            if node.right_child:\n",
    "                q.append(node.right_child)\n",
    "    \n",
    "    def preorder(self):\n",
    "        print str(self.data)\n",
    "        if self.left_child:\n",
    "            self.left_child.preorder()\n",
    "        if self.right_child:\n",
    "            self.right_child.preorder()\n",
    "    \n",
    "    def inorder(self):\n",
    "        if self.left_child:\n",
    "            self.left_child.inorder()\n",
    "        print str(self.data)\n",
    "        if self.right_child:\n",
    "            self.right_child.inorder()\n",
    "        \n",
    "    def postorder(self):\n",
    "        if self.left_child:\n",
    "            self.left_child.postorder()\n",
    "        if self.right_child:\n",
    "            self.right_child.postorder()\n",
    "        print str(self.data)\n",
    "        \n",
    "    \n",
    "            \n",
    "class Tree:\n",
    "    def __init__(self):\n",
    "        self.root_node = None\n",
    "    \n",
    "    def add(self, data):\n",
    "        if not self.root_node:\n",
    "            self.root_node = Node(data)\n",
    "            print \"root node added\"\n",
    "            return True\n",
    "        else:\n",
    "            return self.root_node.add(data)\n",
    "\n",
    "    def find(self, data):\n",
    "        if not self.root_node:\n",
    "            print \"no data found\"\n",
    "            return False\n",
    "        else:\n",
    "            return self.root_node.find(data)\n",
    "    \n",
    "    # --- breadth-frst traversal ---\n",
    "    def levelorder(self):\n",
    "        if self.root_node is None:\n",
    "            print \"root node doesn't exist\"\n",
    "            return False\n",
    "        else:\n",
    "            self.root_node.levelorder()\n",
    "    \n",
    "    # --- depth-frst traversal ---\n",
    "    def preorder(self):\n",
    "        if self.root_node is None:\n",
    "            print \"root node doesn't exist\"\n",
    "            return False\n",
    "        else:\n",
    "            return self.root_node.preorder()\n",
    "        \n",
    "    def inorder(self):\n",
    "        if self.root_node is None:\n",
    "            print \"root node doesn't exist\"\n",
    "            return False\n",
    "        else:\n",
    "            return self.root_node.inorder()\n",
    "    \n",
    "    def postorder(self):\n",
    "        if self.root_node is None:\n",
    "            print \"root node doesn't exist\"\n",
    "            return False\n",
    "        else:\n",
    "            return self.root_node.postorder()"
   ]
  },
  {
   "cell_type": "code",
   "execution_count": 66,
   "metadata": {
    "collapsed": false
   },
   "outputs": [
    {
     "name": "stdout",
     "output_type": "stream",
     "text": [
      "root node doesn't exist\n"
     ]
    },
    {
     "data": {
      "text/plain": [
       "False"
      ]
     },
     "execution_count": 66,
     "metadata": {},
     "output_type": "execute_result"
    }
   ],
   "source": [
    "bb=Tree()\n",
    "bb.preorder()"
   ]
  },
  {
   "cell_type": "code",
   "execution_count": 93,
   "metadata": {
    "collapsed": false
   },
   "outputs": [
    {
     "name": "stdout",
     "output_type": "stream",
     "text": [
      "root node added\n",
      "node added\n",
      "node added\n",
      "node added\n",
      "node added\n"
     ]
    },
    {
     "data": {
      "text/plain": [
       "True"
      ]
     },
     "execution_count": 93,
     "metadata": {},
     "output_type": "execute_result"
    }
   ],
   "source": [
    "bb=Tree()\n",
    "bb.add(90)\n",
    "bb.add(20)\n",
    "bb.add(150)\n",
    "bb.add(5)\n",
    "bb.add(25)"
   ]
  },
  {
   "cell_type": "code",
   "execution_count": 94,
   "metadata": {
    "collapsed": false
   },
   "outputs": [
    {
     "name": "stdout",
     "output_type": "stream",
     "text": [
      "90\n",
      "20\n",
      "5\n",
      "25\n",
      "150\n"
     ]
    }
   ],
   "source": [
    "bb.preorder()"
   ]
  },
  {
   "cell_type": "code",
   "execution_count": 95,
   "metadata": {
    "collapsed": false
   },
   "outputs": [
    {
     "name": "stdout",
     "output_type": "stream",
     "text": [
      "5\n",
      "20\n",
      "25\n",
      "90\n",
      "150\n"
     ]
    }
   ],
   "source": [
    "bb.inorder()"
   ]
  },
  {
   "cell_type": "code",
   "execution_count": 96,
   "metadata": {
    "collapsed": false
   },
   "outputs": [
    {
     "name": "stdout",
     "output_type": "stream",
     "text": [
      "5\n",
      "25\n",
      "20\n",
      "150\n",
      "90\n"
     ]
    }
   ],
   "source": [
    "bb.postorder()"
   ]
  },
  {
   "cell_type": "code",
   "execution_count": 97,
   "metadata": {
    "collapsed": false
   },
   "outputs": [
    {
     "name": "stdout",
     "output_type": "stream",
     "text": [
      "90\n",
      "20\n",
      "150\n",
      "5\n",
      "25\n"
     ]
    }
   ],
   "source": [
    "bb.levelorder()"
   ]
  },
  {
   "cell_type": "code",
   "execution_count": null,
   "metadata": {
    "collapsed": true
   },
   "outputs": [],
   "source": []
  }
 ],
 "metadata": {
  "kernelspec": {
   "display_name": "Python 2",
   "language": "python",
   "name": "python2"
  },
  "language_info": {
   "codemirror_mode": {
    "name": "ipython",
    "version": 2
   },
   "file_extension": ".py",
   "mimetype": "text/x-python",
   "name": "python",
   "nbconvert_exporter": "python",
   "pygments_lexer": "ipython2",
   "version": "2.7.5"
  }
 },
 "nbformat": 4,
 "nbformat_minor": 0
}
